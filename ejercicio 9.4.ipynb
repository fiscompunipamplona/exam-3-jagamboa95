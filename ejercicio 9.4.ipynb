{
 "cells": [
  {
   "cell_type": "markdown",
   "metadata": {},
   "source": [
    "## Ejercicio 9.4: difusión térmica en la corteza terrestre"
   ]
  },
  {
   "cell_type": "markdown",
   "metadata": {},
   "source": [
    "Un ejemplo clásico de un problema de difusión con una condición límite variable en el tiempo es la difusión de calor en la corteza terrestre, una temperatura de la superficie que varía con las estaciones. Suponga que la temperatura media diaria en un punto particular de la superficie varía como:\n",
    "\n",
    "$$ T_0(t)=A+BSen \\left(\\frac{2 \\pi t}{\\tau} \\right) $$\n",
    "\n",
    "donde $ \\tau = 365 días$, $A = 10 ° C$ y $B = 12 ° C$. A una profundidad de $20 m$ debajo de la superficie, casi todas las variaciones anuales de temperatura se eliminan y la temperatura es, en buena aproximación, una constante de $11 ° C$ (que es más alta que la temperatura media de la superficie de $10 ° C$; la temperatura aumenta con la profundidad , debido al calentamiento del núcleo caliente del planeta). La difusividad térmica de la corteza terrestre tiene algo de un lugar a otro, pero para nuestros propósitos la trataremos como constante con un valor $D = 0.1  m^2 Día^{-1}$.\n",
    "\n",
    "Escriba un programa, o modifique uno de los que se dan en el capítulo, para calcular el perfil de temperatura de la corteza en función de una profundidad de hasta $20 m$ y un tiempo de hasta $10 años$, comience con una temperatura en todas partes igual a $10 ° C$, excepto en la superficie y en el punto más profundo, elija valores para el número de puntos de la cuadrícula y el paso de tiempo $h$, luego ejecute su programa durante los primeros nueve años simulados, para permitir que se asiente hacia abajo en cualquier patrón que alcance. Luego, para el décimo y último año, grafique cuatro perfiles de temperatura tomados a intervalos de $3 meses$ en un solo gráfico para ilustrar cómo cambia la temperatura en función del tiempo de profundidad."
   ]
  },
  {
   "cell_type": "code",
   "execution_count": 11,
   "metadata": {},
   "outputs": [],
   "source": [
    "from numpy import empty\n",
    "from pylab import plot,xlabel,ylabel,show,sin,imshow,grid,title\n",
    "from math import pi\n",
    "import matplotlib.pyplot as plt"
   ]
  },
  {
   "cell_type": "code",
   "execution_count": 14,
   "metadata": {},
   "outputs": [
    {
     "data": {
      "text/plain": [
       "Text(0, 0.5, 'Temperatura')"
      ]
     },
     "execution_count": 14,
     "metadata": {},
     "output_type": "execute_result"
    },
    {
     "data": {
      "image/png": "[encoded data removed]",
      "text/plain": [
       "<Figure size 432x288 with 1 Axes>"
      ]
     },
     "metadata": {
      "needs_background": "light"
     },
     "output_type": "display_data"
    }
   ],
   "source": [
    "#Constantes\n",
    "P = 20              #Profundidad en metros\n",
    "D = 0.1             #Difusividad Termica\n",
    "N = 100             #divisiones\n",
    "a = P/N             #tamaño de divisiones de profundidad\n",
    "h = 0.01            #paso de tiempo\n",
    "epsilon = h/100\n",
    "\n",
    "A = 10      # °C\n",
    "B = 12      # °C\n",
    "tau = 365   # días\n",
    "def T0(t):\n",
    "    return A + B*sin(2*pi*t/tau)   # variacion de la temperatura media diaria\n",
    "\n",
    "tmin = 365*9            #tiempo en los primeros 9 años\n",
    "t1 = tmin               #primer intervalos \n",
    "t2 = tmin + 90          #segundo intervalos \n",
    "t3 = t2 + 90            #tercer intervalos \n",
    "t4 = t3 + 90            #cuarto intervalos \n",
    "tend = t4 + epsilon\n",
    "\n",
    "#Creando arrays\n",
    "T = empty(N+1,float)\n",
    "T[1:N] = 10\n",
    "Tp = empty(N+1,float)\n",
    "\n",
    "#Bucle Principal\n",
    "t = 0.0\n",
    "c = h*D/(a*a)\n",
    "while t<tend:\n",
    "    \n",
    "    #Calcular los nuevos valores de T\n",
    "    T[0] = T0(t)\n",
    "    T[N] = 11\n",
    "    for i in range (1,N):\n",
    "        Tp[i] = T[i] + c*(T[i+1]+T[i-1]-2*T[i])\n",
    "    T,Tp = Tp,T\n",
    "    t += h\n",
    "    \n",
    "    #Hacer grafico en los tiempos dados\n",
    "    if abs(t-t1)<epsilon:        #primer pefil de temperatura\n",
    "        plot(T,'y')\n",
    "    if abs(t-t2)<epsilon:        #segundo pefil de temperatura\n",
    "        plot(T,'b')\n",
    "    if abs(t-t3)<epsilon:        #tercer pefil de temperatura\n",
    "        plot(T,'r')\n",
    "    if abs(t-t4)<epsilon:        #cuarto pefil de temperatura\n",
    "        plot(T,'m')\n",
    "\n",
    "plt.title('Representacion de pefil de temperatura VS Profundidad')\n",
    "grid(\"on\")\n",
    "xlabel(\"Profundidad\")\n",
    "ylabel(\"Temperatura\")"
   ]
  },
  {
   "cell_type": "code",
   "execution_count": null,
   "metadata": {},
   "outputs": [],
   "source": []
  }
 ],
 "metadata": {
  "kernelspec": {
   "display_name": "Python 3",
   "language": "python",
   "name": "python3"
  },
  "language_info": {
   "codemirror_mode": {
    "name": "ipython",
    "version": 3
   },
   "file_extension": ".py",
   "mimetype": "text/x-python",
   "name": "python",
   "nbconvert_exporter": "python",
   "pygments_lexer": "ipython3",
   "version": "3.5.2"
  }
 },
 "nbformat": 4,
 "nbformat_minor": 2
}
